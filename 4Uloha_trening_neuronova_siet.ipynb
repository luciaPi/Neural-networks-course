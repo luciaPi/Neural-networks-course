{
  "nbformat": 4,
  "nbformat_minor": 0,
  "metadata": {
    "colab": {
      "provenance": [],
      "authorship_tag": "ABX9TyP7Xb1XfYKmfmLvcC72eSJx",
      "include_colab_link": true
    },
    "kernelspec": {
      "name": "python3",
      "display_name": "Python 3"
    },
    "language_info": {
      "name": "python"
    }
  },
  "cells": [
    {
      "cell_type": "markdown",
      "metadata": {
        "id": "view-in-github",
        "colab_type": "text"
      },
      "source": [
        "<a href=\"https://colab.research.google.com/github/luciaPi/Neural-networks-course/blob/main/4Uloha_trening_neuronova_siet.ipynb\" target=\"_parent\"><img src=\"https://colab.research.google.com/assets/colab-badge.svg\" alt=\"Open In Colab\"/></a>"
      ]
    },
    {
      "cell_type": "markdown",
      "source": [
        "#**Predikcia kvality vína**"
      ],
      "metadata": {
        "id": "yC2jJoe2T6mY"
      }
    },
    {
      "cell_type": "code",
      "execution_count": null,
      "metadata": {
        "id": "oqraenD4Qblo"
      },
      "outputs": [],
      "source": [
        "import numpy as np\n",
        "import pandas as pd\n",
        "import seaborn as sns\n",
        "from tqdm.notebook import tqdm\n",
        "import matplotlib.pyplot as plt\n",
        "import torch\n",
        "import torch.nn as nn\n",
        "import torch.optim as optim\n",
        "from torch.utils.data import Dataset, DataLoader\n",
        "import torch.utils.data as data_utils\n",
        "from sklearn.preprocessing import MinMaxScaler\n",
        "from sklearn.model_selection import train_test_split\n",
        "from sklearn.metrics import mean_squared_error, r2_score"
      ]
    },
    {
      "cell_type": "markdown",
      "source": [
        "## **1. Príprava dát**\n",
        "**Red Wine Quality dataset:** https://www.kaggle.com/datasets/uciml/red-wine-quality-cortez-et-al-2009"
      ],
      "metadata": {
        "id": "MoAYYU4qcV77"
      }
    },
    {
      "cell_type": "code",
      "source": [
        "# !ls /root/.cache/kagglehub/datasets/uciml/red-wine-quality-cortez-et-al-2009/versions/2\n",
        "\n",
        "import kagglehub\n",
        "\n",
        "# Download latest version\n",
        "path = kagglehub.dataset_download(\"uciml/red-wine-quality-cortez-et-al-2009\")\n",
        "\n",
        "print(\"Path to dataset files:\", path)\n",
        "data = pd.read_csv(path+\"/winequality-red.csv\")\n",
        "data.head()"
      ],
      "metadata": {
        "id": "1aLe7641Yp5M"
      },
      "execution_count": null,
      "outputs": []
    },
    {
      "cell_type": "code",
      "source": [
        "# graf kvality vina\n",
        "sns.countplot(x = 'quality', data=data)"
      ],
      "metadata": {
        "id": "dQzgHvwSeSd-"
      },
      "execution_count": null,
      "outputs": []
    },
    {
      "cell_type": "code",
      "source": [
        "# oddelime vstupy a vystup\n",
        "x_data = data.iloc[:, 0: -1]\n",
        "y_data = data.iloc[:, -1]\n",
        "\n",
        "# upravime (normalizacia) vstupy\n",
        "scaler = MinMaxScaler()\n",
        "x_data = scaler.fit_transform(x_data)\n",
        "x_data, y_data = np.array(x_data), np.array(y_data).astype(float)\n",
        "\n",
        "# upravime data na tenzory\n",
        "x_data = torch.from_numpy(x_data).float()\n",
        "y_data = torch.from_numpy(y_data).float()"
      ],
      "metadata": {
        "id": "DLMlA8OnZkkY"
      },
      "execution_count": null,
      "outputs": []
    },
    {
      "cell_type": "code",
      "source": [
        "# pripravime dataloader\n",
        "batch_size = ???\n",
        "train_tensor = data_utils.TensorDataset(x_data, y_data)\n",
        "train_dataloader = data_utils.DataLoader(dataset = train_tensor, batch_size = batch_size, shuffle = True)"
      ],
      "metadata": {
        "id": "vbElcaFreFQN"
      },
      "execution_count": null,
      "outputs": []
    },
    {
      "cell_type": "code",
      "source": [
        "# prvy batch dat\n",
        "next(iter(train_dataloader))"
      ],
      "metadata": {
        "id": "PrbBLBhCfuuZ"
      },
      "execution_count": null,
      "outputs": []
    },
    {
      "cell_type": "markdown",
      "source": [
        "## **2. Príprava neurónovej siete**"
      ],
      "metadata": {
        "id": "SIRXsjXXejgP"
      }
    },
    {
      "cell_type": "code",
      "source": [
        "epochs = ???\n",
        "learning_rate = ???\n",
        "num_attributes = ???\n",
        "\n",
        "# prioritne budeme trenovat na GPU karte\n",
        "device = 'cuda' if torch.cuda.is_available() else 'cpu'"
      ],
      "metadata": {
        "id": "VfAQuvt6gKfh"
      },
      "execution_count": null,
      "outputs": []
    },
    {
      "cell_type": "code",
      "source": [
        "# postavime neuronovu siet\n",
        "class WineModel(nn.Module):\n",
        "    def __init__(self, num_attributes):\n",
        "        super().__init__()\n",
        "        self.layer_1 = nn.Linear(num_attributes, 16)  # torch.nn.Linear(in_features, out_features)\n",
        "        self.layer_2 = nn.Linear(16, 32)\n",
        "        self.layer_3 = nn.Linear(32, 16)\n",
        "        self.layer_out = nn.Linear(16, 1)\n",
        "\n",
        "    def forward(self, x):  # x = vstup\n",
        "        x = self.layer_1(x)\n",
        "        x = self.layer_2(x)\n",
        "        x = self.layer_3(x)\n",
        "        x = self.layer_out(x)\n",
        "        return x\n",
        "\n",
        "# vyrvorime neuronovu siet\n",
        "model = WineModel(num_attributes).to(device).train()\n",
        "print(model)"
      ],
      "metadata": {
        "id": "ItGNjKHiget-"
      },
      "execution_count": null,
      "outputs": []
    },
    {
      "cell_type": "code",
      "source": [
        "criterion = ???\n",
        "optimizer = optim.Adam(model.parameters(), lr=learning_rate)"
      ],
      "metadata": {
        "id": "CJzjIkEiiPPG"
      },
      "execution_count": null,
      "outputs": []
    },
    {
      "cell_type": "markdown",
      "source": [
        "## **3. Tréning neurónovej siete**"
      ],
      "metadata": {
        "id": "xNT3qUtOj3qp"
      }
    },
    {
      "cell_type": "code",
      "source": [
        "# treningovy cyklus\n",
        "print(\"Start training\")\n",
        "\n",
        "absolute_errors = []\n",
        "losses_squarred_errors = []\n",
        "\n",
        "# trening prebieha v niekolkych epochach\n",
        "for epoch in range(epochs): # pocas jednej epochy prejdeme cely dataset\n",
        "    # inicializujeme pre treningove statistiky\n",
        "    running_loss_mse = 0.0\n",
        "    running_mae = 0.0\n",
        "    batches = 0\n",
        "\n",
        "    # v cykle prejdeme vsetky data (po batchoch)\n",
        "    for i, data in enumerate(train_dataloader):\n",
        "        inputs, labels = data\n",
        "        batches+=1\n",
        "\n",
        "        # reshape data\n",
        "        inputs = inputs.view(-1,num_attributes)\n",
        "        labels = labels.view(-1,1)\n",
        "\n",
        "        # restartujeme optimizer\n",
        "        ???\n",
        "\n",
        "        # vypocitame vystup siete pre aktualny batch dat\n",
        "        ???\n",
        "\n",
        "        # priemerna absolutna chyba (MAE=mean absolute error)\n",
        "        MAE = abs(labels-y).mean()\n",
        "        running_mae += MAE.item()\n",
        "\n",
        "        # vypocitame chybu siete - trening sa ju snazi zlepsit (MSE=mean squarred error)\n",
        "        ???\n",
        "\n",
        "        # uprava parametrov siete (vahy) podla aktualnej chyby (loss)\n",
        "        ???\n",
        "\n",
        "        running_loss_mse += loss.item()\n",
        "\n",
        "    # priemerna chyba za celu epochu\n",
        "    MSE = running_loss_mse/batches\n",
        "    losses_squarred_errors.append(MSE)\n",
        "    MAE = running_mae/batches\n",
        "    absolute_errors.append(MAE)\n",
        "\n",
        "    print('epoch {0}: MSE={1} MAE={2}'.format(epoch+1,MSE,MAE))\n",
        "\n",
        "print(\"Finished training\")"
      ],
      "metadata": {
        "id": "KUUy_ciziZ1S"
      },
      "execution_count": null,
      "outputs": []
    },
    {
      "cell_type": "code",
      "source": [
        "fig, axes = plt.subplots(1,2,figsize=(10,4),constrained_layout=True)\n",
        "axes[0].plot(losses_squarred_errors, label='Training Loss MSE')\n",
        "axes[1].plot(absolute_errors, label='MAE')\n",
        "axes[0].set_xlabel('Epochs')\n",
        "axes[1].set_xlabel('Epochs')\n",
        "axes[0].set_title('Training Loss MSE')\n",
        "axes[1].set_title('MAE')\n",
        "plt.show()"
      ],
      "metadata": {
        "id": "0SMh-339jY1S"
      },
      "execution_count": null,
      "outputs": []
    },
    {
      "cell_type": "code",
      "source": [
        "# nastavime model do evaluacneho (netreningoveho modu)\n",
        "model.eval()\n",
        "\n",
        "# vystup celeho datasetu\n",
        "y = model(x_data).detach().numpy()[:,0]\n",
        "\n",
        "# priemerna absolutna chyba (MAE=mean absolute error)\n",
        "MAE = abs(y_data-y).mean().item()\n",
        "\n",
        "# priemerna stvorcova chyba (MSE=mean squarred error)\n",
        "MSE = ((y_data-y)**2).mean().item()\n",
        "\n",
        "print(\"MAE =\",MAE)\n",
        "print(\"MSE =\",MSE)"
      ],
      "metadata": {
        "id": "y6ZmEgK8jlKD"
      },
      "execution_count": null,
      "outputs": []
    },
    {
      "cell_type": "code",
      "source": [
        "# overte model pre konkretnu vzorku vina\n",
        "index_vstupu = ???  # vyberte vzorku vina (index)\n",
        "print(\"Vstup =\",x_data[index_vstupu])\n",
        "y = model(x_data[index_vstupu]).item()\n",
        "print(\"Vystup =\",y)\n",
        "print(\"Pozadovany vystup =\",y_data[index_vstupu].item())\n",
        "chyba1 = abs(y-y_data[index_vstupu].item())\n",
        "print(\"Absolutna chyba =\", chyba1)\n",
        "chyba2 = (y-y_data[index_vstupu].item())**2\n",
        "print(\"Stvorcova chyba =\", chyba2)"
      ],
      "metadata": {
        "id": "fyicKBB6jucp"
      },
      "execution_count": null,
      "outputs": []
    }
  ]
}