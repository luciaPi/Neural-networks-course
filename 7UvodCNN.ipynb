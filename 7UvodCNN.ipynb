{
  "nbformat": 4,
  "nbformat_minor": 0,
  "metadata": {
    "colab": {
      "provenance": [],
      "include_colab_link": true
    },
    "kernelspec": {
      "name": "python3",
      "display_name": "Python 3"
    },
    "accelerator": "GPU"
  },
  "cells": [
    {
      "cell_type": "markdown",
      "metadata": {
        "id": "view-in-github",
        "colab_type": "text"
      },
      "source": [
        "<a href=\"https://colab.research.google.com/github/luciaPi/Neural-networks-course/blob/main/7UvodCNN.ipynb\" target=\"_parent\"><img src=\"https://colab.research.google.com/assets/colab-badge.svg\" alt=\"Open In Colab\"/></a>"
      ]
    },
    {
      "metadata": {
        "id": "r2NPAI4jZZgi"
      },
      "cell_type": "markdown",
      "source": [
        "# Klasifikácia Fashion-MNIST pomocou Konvolučnej neurónovej siete v Pythone\n",
        "\n",
        "Knižnica: Tensorflow\n",
        "\n",
        "![Fashion MNIST](https://github.com/margaretmz/deep-learning/blob/master/images/modern%20dl_fash-mnist_keras.png?raw=1)"
      ]
    },
    {
      "cell_type": "markdown",
      "source": [
        "## Dataset = vstupy + výstupy\n",
        "\n",
        "![Dataset](https://drive.google.com/uc?id=1emGQXUM5iBTpq4gakgFsdYD5FX10yHSu)"
      ],
      "metadata": {
        "id": "kPYd81nku10E"
      }
    },
    {
      "metadata": {
        "id": "XLMRPLVCFwEc"
      },
      "cell_type": "markdown",
      "source": [
        "## Fashion-MNIST dataset\n",
        "\n",
        "*   28x28 čiernobiele obrázky\n",
        "*   70 000 obrázkov (60 000 tréning, 10 000 test)\n",
        "*   10 kategórií\n",
        "\n",
        "<br> **Kategórie**\n",
        "\n",
        "![Labels](https://drive.google.com/uc?id=1g14-UZkDVOaSkDlDX_ead1cNZ79M25xV)\n"
      ]
    },
    {
      "metadata": {
        "id": "LbCigZtNZZgl"
      },
      "cell_type": "markdown",
      "source": [
        "## Stiahnutie fashion_mnist datasetu\n",
        "\n",
        "**Dataset**\n",
        "* x - vstup (obrázok)\n",
        "* y - výstup (kategória)"
      ]
    },
    {
      "metadata": {
        "id": "d44TznbgZZgm"
      },
      "cell_type": "code",
      "source": [
        "!pip install -q -U tensorflow>=1.8.0\n",
        "import tensorflow as tf\n",
        "import numpy as np\n",
        "import matplotlib.pyplot as plt\n",
        "\n",
        "# Load the fashion-mnist\n",
        "(x_train, y_train), (x_test, y_test) = tf.keras.datasets.fashion_mnist.load_data()"
      ],
      "execution_count": null,
      "outputs": []
    },
    {
      "metadata": {
        "id": "tWORMSC8FDR4"
      },
      "cell_type": "markdown",
      "source": [
        "## Vizualizovanie dát"
      ]
    },
    {
      "cell_type": "code",
      "source": [
        "# Print the number of training and test datasets\n",
        "print('Train set:', x_train.shape[0], 'images')\n",
        "print('Test set:', x_test.shape[0], 'images')\n",
        "\n",
        "# Define the text labels\n",
        "fashion_mnist_labels = [\"T-shirt/top\",  # index 0\n",
        "                        \"Trouser\",      # index 1\n",
        "                        \"Pullover\",     # index 2\n",
        "                        \"Dress\",        # index 3\n",
        "                        \"Coat\",         # index 4\n",
        "                        \"Sandal\",       # index 5\n",
        "                        \"Shirt\",        # index 6\n",
        "                        \"Sneaker\",      # index 7\n",
        "                        \"Bag\",          # index 8\n",
        "                        \"Ankle boot\"]   # index 9"
      ],
      "metadata": {
        "id": "8nT157xYimnD"
      },
      "execution_count": null,
      "outputs": []
    },
    {
      "metadata": {
        "id": "aFe4wHGRFKle"
      },
      "cell_type": "code",
      "source": [
        "# Image index (number between 0 and 59 999)\n",
        "img_index = 5\n",
        "\n",
        "# y_train contains the lables (categories from 0 to 9)\n",
        "label_index = y_train[img_index]\n",
        "print('Image index:', img_index, ' Label:', label_index, fashion_mnist_labels[label_index])\n",
        "plt.imshow(x_train[img_index], cmap='gray')"
      ],
      "execution_count": null,
      "outputs": []
    },
    {
      "metadata": {
        "id": "Zx-Ee6LHZZgt"
      },
      "cell_type": "markdown",
      "source": [
        "## Normalizácia dát\n",
        "Dáta musia mať rozsah hodnôt od 0 do 1."
      ]
    },
    {
      "metadata": {
        "id": "XNh5NIckZZgu"
      },
      "cell_type": "code",
      "source": [
        "x_train = x_train.astype('float32') / 255\n",
        "x_test = x_test.astype('float32') / 255"
      ],
      "execution_count": null,
      "outputs": []
    },
    {
      "metadata": {
        "id": "CFlNHktHBtru"
      },
      "cell_type": "markdown",
      "source": [
        "## Rozdelenie datasetu\n",
        "\n",
        "*   Trénovacie dáta - tréning modelu\n",
        "*   Validačné dáta - tuning parametrov modelu\n",
        "*   Testovacie dáta - záverečné testovanie modelu\n",
        "\n",
        "<img src=\"https://drive.google.com/uc?id=1njcCdtmdC7YXoYWMx-PtaZM4Eo0zs5ul\" alt=\"Dataset\" width=70%>"
      ]
    },
    {
      "cell_type": "code",
      "source": [
        "# Further break training data into train / validation sets (# put 5000 into validation set and keep remaining 55,000 for train)\n",
        "(x_train, x_valid) = x_train[5000:], x_train[:5000]\n",
        "(y_train, y_valid) = y_train[5000:], y_train[:5000]\n",
        "\n",
        "print('Train set:', x_train.shape[0], 'images')\n",
        "print('Validation set:', x_valid.shape[0], 'images')\n",
        "print('Test set:', x_test.shape[0], 'images')\n",
        "\n",
        "# Reshape input data from (28, 28) to (28, 28, 1)\n",
        "w, h = 28, 28\n",
        "x_train = x_train.reshape(x_train.shape[0], w, h, 1)\n",
        "x_valid = x_valid.reshape(x_valid.shape[0], w, h, 1)\n",
        "x_test = x_test.reshape(x_test.shape[0], w, h, 1)\n",
        "\n",
        "# One-hot encode the labels\n",
        "y_train = tf.keras.utils.to_categorical(y_train, 10)\n",
        "y_valid = tf.keras.utils.to_categorical(y_valid, 10)\n",
        "y_test = tf.keras.utils.to_categorical(y_test, 10)"
      ],
      "metadata": {
        "id": "P50tqBV9l9VC"
      },
      "execution_count": null,
      "outputs": []
    },
    {
      "metadata": {
        "id": "HhalcO03ZZg3"
      },
      "cell_type": "markdown",
      "source": [
        "## Vytvorenie modelu\n",
        "\n",
        "<img src=\"https://drive.google.com/uc?id=1rhtONHuZP2tF6ECEJtAzMy4lmAkozZ42\" alt=\"Dataset\" width=90%>\n",
        "\n",
        "Vrstvy konvolučnej neurónovej siete:\n",
        "*   Conv2D - konvolučná vrstva\n",
        "*   Pooling - zmenšuje rozmer\n",
        "*   Dropout - pridáva náhodnosť\n",
        "\n",
        "Vrstvy neurónovej siete:\n",
        "*   Flatten - z 2D do 1D\n",
        "*   Dense - klasická vrstva"
      ]
    },
    {
      "metadata": {
        "id": "QgTZ47SsZZg4"
      },
      "cell_type": "code",
      "source": [
        "model = tf.keras.Sequential()\n",
        "\n",
        "# Convolutional neural network\n",
        "model.add(tf.keras.layers.Conv2D(filters=64, kernel_size=2, padding='same', activation='relu', input_shape=(28,28,1)))\n",
        "model.add(tf.keras.layers.MaxPooling2D(pool_size=2))\n",
        "model.add(tf.keras.layers.Dropout(0.3))\n",
        "\n",
        "model.add(tf.keras.layers.Conv2D(filters=32, kernel_size=2, padding='same', activation='relu'))\n",
        "model.add(tf.keras.layers.MaxPooling2D(pool_size=2))\n",
        "model.add(tf.keras.layers.Dropout(0.3))\n",
        "\n",
        "# Neural network\n",
        "model.add(tf.keras.layers.Flatten())\n",
        "model.add(tf.keras.layers.Dense(256, activation='relu'))\n",
        "model.add(tf.keras.layers.Dropout(0.5))\n",
        "model.add(tf.keras.layers.Dense(10, activation='softmax'))\n",
        "\n",
        "# model summary\n",
        "model.summary()"
      ],
      "execution_count": null,
      "outputs": []
    },
    {
      "cell_type": "markdown",
      "source": [
        "<img src=\"https://drive.google.com/uc?id=1yBd-KJFwc6QLW9C4dDmR-E-UnAboutmM\" alt=\"Dataset\" width=70%>"
      ],
      "metadata": {
        "id": "glWX3wnU0tph"
      }
    },
    {
      "metadata": {
        "id": "FhxJ5dinZZg8"
      },
      "cell_type": "markdown",
      "source": [
        "## Kompilácia modelu\n",
        "\n"
      ]
    },
    {
      "metadata": {
        "id": "CQUlOa8cZZg9"
      },
      "cell_type": "code",
      "source": [
        "model.compile(loss='categorical_crossentropy',\n",
        "             optimizer=tf.keras.optimizers.Adam(learning_rate=0.001),\n",
        "             metrics=['accuracy'])"
      ],
      "execution_count": null,
      "outputs": []
    },
    {
      "metadata": {
        "id": "DtOvh3YVZZg_"
      },
      "cell_type": "markdown",
      "source": [
        "## Tréning modelu\n",
        "\n",
        "Priebežne sa ukladá model na základe presnosti na validačnej množine. (checkpoint)\n",
        "\n",
        "<img src=\"https://drive.google.com/uc?id=1-7oNniPjh4V6M5JaaYof9Hbf24ZiR7YZ\" alt=\"Dataset\" width=40%>\n"
      ]
    },
    {
      "metadata": {
        "id": "ZTmapAttZZhA"
      },
      "cell_type": "code",
      "source": [
        "from keras.callbacks import ModelCheckpoint\n",
        "checkpointer = ModelCheckpoint(filepath='model.weights.h5', verbose = 1, save_best_only=True, save_weights_only=True)\n",
        "\n",
        "model.fit(x_train, # training data - input(images)\n",
        "         y_train, # training data - output(categories)\n",
        "         batch_size=64,\n",
        "         epochs=10, # training repetitions\n",
        "         validation_data=(x_valid, y_valid), # validation set - input,output\n",
        "         callbacks=[checkpointer])\n",
        "\n",
        "# Load the weights with the best validation accuracy\n",
        "model.load_weights('model.weights.h5')"
      ],
      "execution_count": null,
      "outputs": []
    },
    {
      "metadata": {
        "id": "9RTRkan4yq5H"
      },
      "cell_type": "markdown",
      "source": [
        "## Testovanie modelu\n",
        "\n",
        "Presnosť na testovacích dátach."
      ]
    },
    {
      "metadata": {
        "id": "VZtqBqFFy62R"
      },
      "cell_type": "code",
      "source": [
        "# Evaluate the model on test set\n",
        "score = model.evaluate(x_test, y_test, verbose=1)\n",
        "\n",
        "# Print test accuracy\n",
        "percentage = \"{:.2%}\".format(score[1])\n",
        "print(\"Test accuracy:\",percentage)"
      ],
      "execution_count": null,
      "outputs": []
    },
    {
      "metadata": {
        "id": "oJv7XEk10bOv"
      },
      "cell_type": "markdown",
      "source": [
        "## Vizualizovanie výsledkov\n",
        "\n",
        "Použitie natrénovaného modelu.\n",
        "\n",
        "Predikcia kategórie na testovacom datasete."
      ]
    },
    {
      "cell_type": "code",
      "source": [
        "index = 1\n",
        "first_img = tf.expand_dims(x_test[index], axis=0)\n",
        "plt.imshow(first_img[0], cmap='gray')\n",
        "\n",
        "prediction = model.predict(first_img, verbose=0)\n",
        "predict_index = np.argmax(prediction)\n",
        "print('Predicted category:', predict_index, fashion_mnist_labels[predict_index])\n",
        "real_index = np.argmax(y_test[index])\n",
        "print('Real category:', real_index, fashion_mnist_labels[real_index])"
      ],
      "metadata": {
        "id": "1O_fT-zm6IZX"
      },
      "execution_count": null,
      "outputs": []
    },
    {
      "cell_type": "markdown",
      "source": [
        "10 náhodných obrázkov z testovacej množiny.\n",
        "\n",
        "Predikovaná kategória:\n",
        "* zelená - správne\n",
        "* červená - nesprávne"
      ],
      "metadata": {
        "id": "-KNFFMCbsbe9"
      }
    },
    {
      "cell_type": "code",
      "source": [
        "y_hat = model.predict(x_test)\n",
        "\n",
        "# 10 random test images\n",
        "figure = plt.figure(figsize=(20, 8))\n",
        "for i, index in enumerate(np.random.choice(x_test.shape[0], size=15, replace=False)):\n",
        "    ax = figure.add_subplot(3, 5, i + 1, xticks=[], yticks=[])\n",
        "    # Display each image\n",
        "    ax.imshow(np.squeeze(x_test[index]), cmap='gray')\n",
        "    predict_index = np.argmax(y_hat[index])\n",
        "    true_index = np.argmax(y_test[index])\n",
        "    # Set the title for each image\n",
        "    ax.set_title(\"{} ({})\".format(fashion_mnist_labels[predict_index],\n",
        "                                  fashion_mnist_labels[true_index]),\n",
        "                                  color=(\"green\" if predict_index == true_index else \"red\"))"
      ],
      "metadata": {
        "id": "07v17hpytB9q"
      },
      "execution_count": null,
      "outputs": []
    },
    {
      "cell_type": "markdown",
      "source": [
        "## Reálny obrázok"
      ],
      "metadata": {
        "id": "3j0AIuRl8gfD"
      }
    },
    {
      "cell_type": "code",
      "source": [
        "from PIL import Image\n",
        "import requests\n",
        "\n",
        "url = \"https://m.media-amazon.com/images/I/51JpA4Olu4L._AC_UL1157_.jpg\"\n",
        "\n",
        "new_img = Image.open(requests.get(url, stream=True).raw).convert('L')\n",
        "new_img = np.array(new_img.resize((28, 28)))  # resize image to 28x28\n",
        "new_img = new_img.astype('float32') / 255\n",
        "new_img = 1-new_img  # invert colors\n",
        "new_img = tf.expand_dims(new_img, axis=0)\n",
        "new_img = tf.expand_dims(new_img, axis=3)\n",
        "plt.imshow(new_img[0], cmap='gray')\n",
        "\n",
        "prediction = model.predict(new_img, verbose=0)\n",
        "predict_index = np.argmax(prediction)\n",
        "print('Predicted category:', predict_index, fashion_mnist_labels[predict_index])"
      ],
      "metadata": {
        "id": "bsxj_lkB8YEe"
      },
      "execution_count": null,
      "outputs": []
    }
  ]
}