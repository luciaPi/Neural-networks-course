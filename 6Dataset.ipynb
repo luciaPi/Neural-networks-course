{
  "nbformat": 4,
  "nbformat_minor": 0,
  "metadata": {
    "colab": {
      "provenance": [],
      "authorship_tag": "ABX9TyNJyhZTWSN0ED+zKOJL/yhu",
      "include_colab_link": true
    },
    "kernelspec": {
      "name": "python3",
      "display_name": "Python 3"
    },
    "language_info": {
      "name": "python"
    }
  },
  "cells": [
    {
      "cell_type": "markdown",
      "metadata": {
        "id": "view-in-github",
        "colab_type": "text"
      },
      "source": [
        "<a href=\"https://colab.research.google.com/github/luciaPi/Neural-networks-course/blob/main/6Dataset.ipynb\" target=\"_parent\"><img src=\"https://colab.research.google.com/assets/colab-badge.svg\" alt=\"Open In Colab\"/></a>"
      ]
    },
    {
      "cell_type": "markdown",
      "source": [
        "# **Customers Churn (odliv zákazníkov)**\n",
        "**Úloha:** Predikcia, či zákazník v blízkej dobe zmení banku\n",
        "\n",
        "https://github.com/nasywa-ibtisamah/Predicting-Customer-Churn-for-Cost-Effective-Retention-in-A-Bank-using-F1-Score-and-AUC-ROC\n"
      ],
      "metadata": {
        "id": "tgq--KY1yjj4"
      }
    },
    {
      "cell_type": "code",
      "execution_count": null,
      "metadata": {
        "id": "EdeZvhkBxHJ9"
      },
      "outputs": [],
      "source": [
        "import pandas as pd\n",
        "from sklearn.preprocessing import MinMaxScaler"
      ]
    },
    {
      "cell_type": "code",
      "source": [
        "# load the data\n",
        "data = pd.read_csv('https://raw.githubusercontent.com/luciaPi/Neural-networks-course/refs/heads/main/Data/Churn.csv')\n",
        "data.head(10)"
      ],
      "metadata": {
        "id": "w7nNdPD9xgSA"
      },
      "execution_count": null,
      "outputs": []
    },
    {
      "cell_type": "markdown",
      "source": [
        "*   Ktorý atribút budeme predikovať?\n",
        "*   Koľko dátových objektov a koľko atribútov má dataset?\n",
        "\n"
      ],
      "metadata": {
        "id": "EXLxw1Ev-fBh"
      }
    },
    {
      "cell_type": "code",
      "source": [
        "# kolko datovych objektov a kolko atributov ma dataset?\n",
        "data.info()"
      ],
      "metadata": {
        "id": "qH6ICiekxgmw"
      },
      "execution_count": null,
      "outputs": []
    },
    {
      "cell_type": "markdown",
      "source": [
        "**Nepotrebné atribúty**\n",
        "*   Ktoré atribúty sú zbytočné a môžeme ich vymazať?"
      ],
      "metadata": {
        "id": "DeBVhEkIH6wO"
      }
    },
    {
      "cell_type": "code",
      "source": [
        "data = data.drop(columns=['???', '???', '???'])\n",
        "data.head(10)"
      ],
      "metadata": {
        "id": "xEeZaxbFH6Dz"
      },
      "execution_count": null,
      "outputs": []
    },
    {
      "cell_type": "markdown",
      "source": [
        "**Chýbajúce hodnoty**\n",
        "\n",
        "Chýbajúce hodnoty = missing values, NaN(Not a Number)\n",
        "\n",
        "*   Ktoré atribúty obsahujú chýbajúce hodnoty?"
      ],
      "metadata": {
        "id": "lp6fxsMwAwyg"
      }
    },
    {
      "cell_type": "code",
      "source": [
        "# checking missing values\n",
        "data.isnull().sum() / 100"
      ],
      "metadata": {
        "id": "Mr3QOm6VAvXF"
      },
      "execution_count": null,
      "outputs": []
    },
    {
      "cell_type": "code",
      "source": [
        "# fill in missing values in 'Tenure' column\n",
        "data['Tenure'] = data['Tenure'].fillna(value=data['Tenure'].median()) # fill with median value\n",
        "data['NumOfProducts'] = data['NumOfProducts'].fillna(value=data['NumOfProducts'].mean()) # fill with average value\n",
        "data.isnull().sum() / 100"
      ],
      "metadata": {
        "id": "3ex5pFjYEfHL"
      },
      "execution_count": null,
      "outputs": []
    },
    {
      "cell_type": "markdown",
      "source": [
        "**Vybalansovaný dataset**\n",
        "*   Je dataset vybalansovaný?"
      ],
      "metadata": {
        "id": "nRF1wR_uCzye"
      }
    },
    {
      "cell_type": "code",
      "source": [
        "# check data composition of target column in percentage\n",
        "data['Exited'].value_counts()/data.shape[0] * 100"
      ],
      "metadata": {
        "id": "udMJL_iFCrHI"
      },
      "execution_count": null,
      "outputs": []
    },
    {
      "cell_type": "markdown",
      "source": [
        "**Kategorické atribúty**"
      ],
      "metadata": {
        "id": "dIKWE5OLHoBu"
      }
    },
    {
      "cell_type": "code",
      "source": [
        "data.head(10)"
      ],
      "metadata": {
        "id": "bB-Qqo6HHoWY"
      },
      "execution_count": null,
      "outputs": []
    },
    {
      "cell_type": "markdown",
      "source": [
        "* Ku každému atribútu určite, o aký typ ide (môže ich byť aj viac, buďte čo najviac špecifický).\n",
        "* Doplňte kateogrické a numerické atribúty."
      ],
      "metadata": {
        "id": "yub4aYT8Tv65"
      }
    },
    {
      "cell_type": "code",
      "source": [
        "# categorical columns\n",
        "df_categorical = ['???', '???']\n",
        "\n",
        "# numerical columns\n",
        "df_numerical = ['???', '???', '???', '???', '???', '???', '???', '???']"
      ],
      "metadata": {
        "id": "aUg7mv6kTdNk"
      },
      "execution_count": null,
      "outputs": []
    },
    {
      "cell_type": "code",
      "source": [
        "# perform one-hot encoding\n",
        "data = pd.get_dummies(data, drop_first=False, columns = df_categorical)\n",
        "data.head(10)"
      ],
      "metadata": {
        "id": "lyoLrz2TT7yj"
      },
      "execution_count": null,
      "outputs": []
    },
    {
      "cell_type": "markdown",
      "source": [
        "**Min-Max normalizácia**\n",
        "* Ktoré atribúty treba normalizovať?"
      ],
      "metadata": {
        "id": "MjFb-g1ymhEc"
      }
    },
    {
      "cell_type": "code",
      "source": [
        "# perform normalization\n",
        "cols = data.columns\n",
        "scaler = MinMaxScaler()\n",
        "data = scaler.fit_transform(data)\n",
        "data = pd.DataFrame(data, columns=cols)\n",
        "data.head(10)"
      ],
      "metadata": {
        "id": "qrzauubVlaJs"
      },
      "execution_count": null,
      "outputs": []
    }
  ]
}