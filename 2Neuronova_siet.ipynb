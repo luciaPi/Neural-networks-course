{
  "nbformat": 4,
  "nbformat_minor": 0,
  "metadata": {
    "colab": {
      "provenance": [],
      "authorship_tag": "ABX9TyPwU33VC9UgwWfwuj5c9Q2B",
      "include_colab_link": true
    },
    "kernelspec": {
      "name": "python3",
      "display_name": "Python 3"
    },
    "language_info": {
      "name": "python"
    }
  },
  "cells": [
    {
      "cell_type": "markdown",
      "metadata": {
        "id": "view-in-github",
        "colab_type": "text"
      },
      "source": [
        "<a href=\"https://colab.research.google.com/github/luciaPi/Neural-networks-course/blob/main/2Neuronova_siet.ipynb\" target=\"_parent\"><img src=\"https://colab.research.google.com/assets/colab-badge.svg\" alt=\"Open In Colab\"/></a>"
      ]
    },
    {
      "cell_type": "markdown",
      "source": [
        "# **PyTorch**\n",
        "\n",
        "<img src=\"https://venturebeat.com/wp-content/uploads/2019/06/pytorch-e1576624094357.jpg?w=1024?w=1200&strip=all\" width=30% align=\"right\" style=\"float:right\">\n",
        "\n",
        "**PyTorch** je open-source framework pre umelú inteligenciu (neurónové siete) v jazyku **Python**.\n",
        "\n",
        "PyTorch je vlastne knižnica na spracovanie **tenzorov**. Čo sú teda tenzory? **Tenzory** sú viacrozmerné polia, ktoré obsahujú naše dáta. Tenzory sú v podstate to isté ako polia (arrays) v knižnici Numpy. Ale PyTorch tenzory umožňujú rýchlejšie spracovanie na **GPU karte**.\n",
        "\n",
        "Pre tréning modelov neurónových sietí sa používajú **GPU karty**, keďže výpočty sú založené na násobení viacrozmerných polí, ktoré dokážu GPU karty vykonávať **rýchlejšie** ako CPU.\n",
        "\n"
      ],
      "metadata": {
        "id": "gp5NUsXAthrj"
      }
    },
    {
      "cell_type": "code",
      "execution_count": null,
      "metadata": {
        "id": "qqpta3wzsUrm"
      },
      "outputs": [],
      "source": [
        "import torch\n",
        "from torch import nn\n",
        "import pandas as pd"
      ]
    },
    {
      "cell_type": "markdown",
      "source": [
        "# **Tenzory**\n",
        "**Tenzory** obsahujú naše dáta.\n"
      ],
      "metadata": {
        "id": "GOfcLVntz2GF"
      }
    },
    {
      "cell_type": "code",
      "source": [
        "# Creating tensors of different dimensions:\n",
        "# tensor with single element\n",
        "a = torch.tensor([1])\n",
        "# Vector tensor: 1 dimensional(integer values)\n",
        "b = torch.tensor([1, 2, 3, 4, 5])\n",
        "# Matrix tensor: 2 dimensional (floating values)\n",
        "# Note: Here one one element is written in float, but PyTorch #converts the rest for you (1. = 1.0)\n",
        "c = torch.tensor([[1., 2, 3],[6, 7, 8]])\n",
        "# 3 dimensional tensor (integer values)\n",
        "d = torch.tensor([[[1, 2, 3, 4],[11, 12, 13, 14]],[[1, 2, 3, 4],[6, 7, 8, 9]]])\n",
        "\n",
        "a, b, c, d"
      ],
      "metadata": {
        "id": "88i-8nZ6xgUD"
      },
      "execution_count": null,
      "outputs": []
    },
    {
      "cell_type": "code",
      "source": [
        "print(c.mean())\n",
        "print(c.sum())\n",
        "print(c.view(3,2)) # reshape"
      ],
      "metadata": {
        "id": "ZZbQhdIxyfzn"
      },
      "execution_count": null,
      "outputs": []
    },
    {
      "cell_type": "code",
      "source": [
        "a = torch.zeros(3,4)\n",
        "b = torch.ones(4,3)\n",
        "c = torch.rand(2,3) # random <0,1)\n",
        "\n",
        "a,b,c"
      ],
      "metadata": {
        "id": "EN6wOnB-xgfa"
      },
      "execution_count": null,
      "outputs": []
    },
    {
      "cell_type": "markdown",
      "source": [
        "### **Dataset Študenti**\n",
        "\n",
        "https://www.kaggle.com/datasets/rkiattisak/student-performance-in-mathematics"
      ],
      "metadata": {
        "id": "SJ-twUUh3HbH"
      }
    },
    {
      "cell_type": "markdown",
      "source": [
        "#### **1. Príprava dát**"
      ],
      "metadata": {
        "id": "L_faWUigCDi3"
      }
    },
    {
      "cell_type": "code",
      "source": [
        "#!ls /root/.cache/kagglehub/datasets/rkiattisak/student-performance-in-mathematics/versions/3\n",
        "\n",
        "import kagglehub\n",
        "\n",
        "# Download latest version\n",
        "path = kagglehub.dataset_download(\"rkiattisak/student-performance-in-mathematics\")\n",
        "\n",
        "print(\"Path to dataset files:\", path)\n",
        "data = pd.read_csv(path+\"/exams.csv\")"
      ],
      "metadata": {
        "id": "1WiMU1Wlyd5_"
      },
      "execution_count": null,
      "outputs": []
    },
    {
      "cell_type": "code",
      "source": [
        "data"
      ],
      "metadata": {
        "id": "nUHYDUms1ldy"
      },
      "execution_count": null,
      "outputs": []
    },
    {
      "cell_type": "code",
      "source": [
        "# atributy nasho datasetu\n",
        "data.keys()"
      ],
      "metadata": {
        "id": "NLPkS1lJ622G"
      },
      "execution_count": null,
      "outputs": []
    },
    {
      "cell_type": "code",
      "source": [
        "# porzieme ake hodnoty nadobuda \"lunch\"\n",
        "data['lunch'].unique()"
      ],
      "metadata": {
        "id": "kUU7z_-W7OqJ"
      },
      "execution_count": null,
      "outputs": []
    },
    {
      "cell_type": "code",
      "source": [
        "# zmenime \"lunch\" na 0-1 hodnoty\n",
        "data['lunch'] = data['lunch'].replace({'free/reduced': 1, 'standard': 0})\n",
        "data"
      ],
      "metadata": {
        "id": "tCqaGuJLd2fp"
      },
      "execution_count": null,
      "outputs": []
    },
    {
      "cell_type": "code",
      "source": [
        "# upravime aj \"gender\" a \"parental level of education\"\n",
        "data['gender'] = data['gender'].replace({'female': 1, 'male': 0})\n",
        "data['parental level of education'] = data['parental level of education'].replace({'some high school': 0,'high school':0,'some college':1,\"associate's degree\":2,\"bachelor's degree\":3,\"master's degree\":4})\n",
        "data"
      ],
      "metadata": {
        "id": "wGyxl36Oebke"
      },
      "execution_count": null,
      "outputs": []
    },
    {
      "cell_type": "markdown",
      "source": [
        "**Úloha**\n",
        "\n",
        "Zmente na 0-1 hodnoty stlpec \"test preparation course\""
      ],
      "metadata": {
        "id": "CEhLtQim76sB"
      }
    },
    {
      "cell_type": "code",
      "source": [
        "???"
      ],
      "metadata": {
        "id": "Xoik7A1i74nV"
      },
      "execution_count": null,
      "outputs": []
    },
    {
      "cell_type": "code",
      "source": [
        "# vymazeme stlpec \"race/ethnicity\"\n",
        "data =data.drop(columns=['race/ethnicity'])\n",
        "data"
      ],
      "metadata": {
        "id": "yp-8Lg3Y7t02"
      },
      "execution_count": null,
      "outputs": []
    },
    {
      "cell_type": "code",
      "source": [
        "# vizualizujeme data\n",
        "from matplotlib import pyplot as plt\n",
        "import seaborn as sns\n",
        "\n",
        "# Set up a 2x4 grid of subplots\n",
        "fig, axes = plt.subplots(2, 3, figsize=(20, 10), constrained_layout=True)\n",
        "\n",
        "# Plot 1: Grouped by 'parental_level_of_education'\n",
        "data.groupby('parental level of education').size().plot(kind='barh', ax=axes[0, 0], color=sns.palettes.mpl_palette('Dark2'), title='parental level of education')\n",
        "axes[0, 0].spines[['top', 'right']].set_visible(False)\n",
        "\n",
        "# Plot 2: 'lunch'\n",
        "data['lunch'].plot(kind='hist', bins=20, ax=axes[0, 1], title='lunch')\n",
        "axes[0, 1].spines[['top', 'right']].set_visible(False)\n",
        "\n",
        "# Plot 3: 'gender'\n",
        "data['gender'].plot(kind='hist', bins=20, ax=axes[0, 2], title='gender')\n",
        "axes[0, 2].spines[['top', 'right']].set_visible(False)\n",
        "\n",
        "# Plot 4: 'test_preparation_course'\n",
        "data['test preparation course'].plot(kind='hist', bins=20, ax=axes[1, 0], title='test preparation course')\n",
        "axes[1, 0].spines[['top', 'right']].set_visible(False)\n",
        "\n",
        "# Plot 5: 'math_score'\n",
        "data['math score'].plot(kind='hist', bins=20, ax=axes[1, 1], title='math score')\n",
        "axes[1, 1].spines[['top', 'right']].set_visible(False)\n",
        "\n",
        "# Plot 6: Scatter plot of 'math_score' vs 'reading_score'\n",
        "data.plot(kind='scatter', x='math score', y='reading score', s=32, alpha=0.8, ax=axes[1, 2], title='math score vs reading score')\n",
        "axes[1, 2].spines[['top', 'right']].set_visible(False)"
      ],
      "metadata": {
        "id": "2C2do3804aIB"
      },
      "execution_count": null,
      "outputs": []
    },
    {
      "cell_type": "markdown",
      "source": [
        "**Úlohy**\n",
        "\n",
        "1. Čo budú vstupy $x$? (napr. 3)\n",
        "2. Čo bude naša sieť predikovať? Čiže čo bude výstup $y$ (labels)?"
      ],
      "metadata": {
        "id": "Yf6skzFv6QFL"
      }
    },
    {
      "cell_type": "code",
      "source": [
        "# vstupy\n",
        "input_name1 = '???'\n",
        "input_name2 = '???'\n",
        "input_name3 = '???'\n",
        "inputs = data[[input_name1,input_name2,input_name3]].copy()\n",
        "inputs"
      ],
      "metadata": {
        "id": "7EhLjyP57RPd"
      },
      "execution_count": null,
      "outputs": []
    },
    {
      "cell_type": "code",
      "source": [
        "# vystup\n",
        "output_name = '???'\n",
        "labels = data[output_name].copy()\n",
        "labels"
      ],
      "metadata": {
        "id": "MMS0xOtv5eqS"
      },
      "execution_count": null,
      "outputs": []
    },
    {
      "cell_type": "code",
      "source": [
        "# upravime data na tenzory\n",
        "x_data = torch.tensor(inputs.values, dtype=torch.float32)\n",
        "y_data = torch.tensor(labels.values, dtype=torch.float32)"
      ],
      "metadata": {
        "id": "8DP78nD68Yui"
      },
      "execution_count": null,
      "outputs": []
    },
    {
      "cell_type": "code",
      "source": [
        "# pozrite si, co obsahuju nove tenzory\n",
        "???"
      ],
      "metadata": {
        "id": "AaCTjUpm8rWN"
      },
      "execution_count": null,
      "outputs": []
    },
    {
      "cell_type": "code",
      "source": [
        "# pozrite si rozmery tenzorov pomocou .shape\n",
        "???"
      ],
      "metadata": {
        "id": "eZ1Q8Inl846m"
      },
      "execution_count": null,
      "outputs": []
    },
    {
      "cell_type": "markdown",
      "source": [
        "#### **2. Príprava neurónovej siete**"
      ],
      "metadata": {
        "id": "RKanUXTZCQg0"
      }
    },
    {
      "cell_type": "code",
      "source": [
        "# prioritne budeme trenovat na GPU karte\n",
        "device = 'cuda' if torch.cuda.is_available() else 'cpu'\n",
        "device"
      ],
      "metadata": {
        "id": "bBkAEzT6DP3H"
      },
      "execution_count": null,
      "outputs": []
    },
    {
      "cell_type": "code",
      "source": [
        "# postavime neuronovu siet\n",
        "\n",
        "class StudentiModel(nn.Module):\n",
        "    def __init__(self):\n",
        "        super().__init__()\n",
        "        self.linear1 = nn.Linear(3, 3)  # torch.nn.Linear(in_features, out_features)\n",
        "        self.linear2 = nn.Linear(3, 2)\n",
        "        self.linear3 = nn.Linear(2, 1)\n",
        "\n",
        "    def forward(self, x):  # x = vstup\n",
        "        y123 = self.linear1(x)\n",
        "        y45 = self.linear2(y123)\n",
        "        y6 = self.linear3(y45)\n",
        "        print(\"1. vsrtva\", y123.detach().numpy())\n",
        "        print(\"2. vsrtva\", y45.detach().numpy())\n",
        "        print(\"3. vsrtva\", y6.detach().numpy())\n",
        "        return y6\n"
      ],
      "metadata": {
        "id": "jMimOz4F9TD1"
      },
      "execution_count": null,
      "outputs": []
    },
    {
      "cell_type": "markdown",
      "source": [
        "**Úlohy**\n",
        "1. Koľko vrstiev má neurónová sieť?\n",
        "2. Koľko neurónov je v jednotlivých vrstvách?\n",
        "3. Nakreslite obrázok siete."
      ],
      "metadata": {
        "id": "bLiKj79e9yV_"
      }
    },
    {
      "cell_type": "code",
      "source": [
        "# vyrvorime neuronovu siet\n",
        "model = StudentiModel().to(device).eval()\n",
        "model"
      ],
      "metadata": {
        "id": "Ehj90oWf9uPI"
      },
      "execution_count": null,
      "outputs": []
    },
    {
      "cell_type": "markdown",
      "source": [
        "**Váhy siete**"
      ],
      "metadata": {
        "id": "XuwOxEeoMQPw"
      }
    },
    {
      "cell_type": "code",
      "source": [
        "# vahy su inicializovane nahodne\n",
        "for name, param in model.named_parameters():\n",
        "  param.requires_grad = False\n",
        "  print(name, \"-\", param.detach().numpy())"
      ],
      "metadata": {
        "id": "ZyjH-XCSIEzz"
      },
      "execution_count": null,
      "outputs": []
    },
    {
      "cell_type": "markdown",
      "source": [
        "**Výstup siete pre konkrétneho študenta**"
      ],
      "metadata": {
        "id": "H24OEfJFMWZ3"
      }
    },
    {
      "cell_type": "code",
      "source": [
        "# vyberte studenta\n",
        "index_vstupu = ???\n",
        "print(\"Vstup =\",x_data[index_vstupu])\n",
        "y = model(x_data[index_vstupu]).item()\n",
        "print(\"Vystup =\",y)\n",
        "print(\"Pozadovany vystup =\",labels[index_vstupu])"
      ],
      "metadata": {
        "id": "LJBFzmdXD4UL"
      },
      "execution_count": null,
      "outputs": []
    },
    {
      "cell_type": "markdown",
      "source": [
        "Váhy zaokrúhlime na 1 desatinné, aby sa nám jednoduchšie počítalo"
      ],
      "metadata": {
        "id": "kBUVUFwrMee3"
      }
    },
    {
      "cell_type": "code",
      "source": [
        "# manualne vahy zaokruhlime\n",
        "for param in model.parameters():\n",
        "    transformed_param = torch.round(param, decimals = 1)\n",
        "    param.copy_(transformed_param)\n",
        "\n",
        "for name, param in model.named_parameters():\n",
        "    print(name, \"-\", param.detach().numpy())"
      ],
      "metadata": {
        "id": "3XUSX5UNJxyP"
      },
      "execution_count": null,
      "outputs": []
    },
    {
      "cell_type": "markdown",
      "source": [
        "Výstup siete pre konkrétneho študenta po zaokrúhlení"
      ],
      "metadata": {
        "id": "n67H90eoMm4N"
      }
    },
    {
      "cell_type": "code",
      "source": [
        "# vyberte studenta\n",
        "index_vstupu = ???\n",
        "print(\"Vstup =\",x_data[index_vstupu])\n",
        "y = model(x_data[index_vstupu]).item()\n",
        "print(\"Vystup =\",y)\n",
        "print(\"Pozadovany vystup =\",labels[index_vstupu])"
      ],
      "metadata": {
        "id": "tcYzbiIRMJUQ"
      },
      "execution_count": null,
      "outputs": []
    },
    {
      "cell_type": "markdown",
      "source": [
        "**Úloha**\n",
        "\n",
        "1. Vypočítajte sami výstup siete pre daného študenta.\n",
        "2. Vypočítajte chybu siete: \\\\\n",
        "a) absolútnu chybu \\\\\n",
        "b) štvorcovú chybu"
      ],
      "metadata": {
        "id": "YfuNN6zmMvRT"
      }
    },
    {
      "cell_type": "markdown",
      "source": [
        "#### **Ohodnotenie siete**"
      ],
      "metadata": {
        "id": "ZRHKGQNrNelf"
      }
    },
    {
      "cell_type": "code",
      "source": [
        "# postavime neuronovu siet bez zbytocnych vypisov\n",
        "\n",
        "class StudentiModel(nn.Module):\n",
        "    def __init__(self):\n",
        "        super().__init__()\n",
        "        self.linear1 = nn.Linear(3, 3)  # torch.nn.Linear(in_features, out_features)\n",
        "        self.linear2 = nn.Linear(3, 2)\n",
        "        self.linear3 = nn.Linear(2, 1)\n",
        "\n",
        "    def forward(self, x):  # x = vstup\n",
        "        y123 = self.linear1(x)\n",
        "        y45 = self.linear2(y123)\n",
        "        y6 = self.linear3(y45)\n",
        "        return y6\n",
        "\n",
        "model = StudentiModel().to(device).eval()\n",
        "model"
      ],
      "metadata": {
        "id": "3HPrrjXIPhsa"
      },
      "execution_count": null,
      "outputs": []
    },
    {
      "cell_type": "markdown",
      "source": [
        "**Absolútna chyba**"
      ],
      "metadata": {
        "id": "L76kcHPqNlnd"
      }
    },
    {
      "cell_type": "code",
      "source": [
        "# vyberte studenta\n",
        "index_vstupu = ???\n",
        "print(\"Vstup =\",x_data[index_vstupu])\n",
        "y = model(x_data[index_vstupu]).item()\n",
        "print(\"Vystup =\",y)\n",
        "print(\"Pozadovany vystup =\",y_data[index_vstupu].item())\n",
        "chyba1 = abs(y-y_data[index_vstupu].item())\n",
        "print(\"Absolutna chyba =\", chyba1)"
      ],
      "metadata": {
        "id": "K4N7_waHNh6Q"
      },
      "execution_count": null,
      "outputs": []
    },
    {
      "cell_type": "markdown",
      "source": [
        "**Štvorcová chyba**"
      ],
      "metadata": {
        "id": "IhKHU-xLOSOY"
      }
    },
    {
      "cell_type": "code",
      "source": [
        "# vyberte studenta\n",
        "index_vstupu = ???\n",
        "print(\"Vstup =\",x_data[index_vstupu])\n",
        "y = model(x_data[index_vstupu]).item()\n",
        "print(\"Vystup =\",y)\n",
        "print(\"Pozadovany vystup =\",y_data[index_vstupu].item())\n",
        "chyba2 = (y-y_data[index_vstupu].item())**2\n",
        "print(\"Stvorcova chyba =\", chyba2)"
      ],
      "metadata": {
        "id": "WQef_p1HNh9J"
      },
      "execution_count": null,
      "outputs": []
    },
    {
      "cell_type": "markdown",
      "source": [
        "**Chyba celého datasetu**"
      ],
      "metadata": {
        "id": "e-XalIz_Oq4j"
      }
    },
    {
      "cell_type": "code",
      "source": [
        "# vystup celeho datasetu\n",
        "y = model(x_data).detach().numpy()[:,0]\n",
        "y"
      ],
      "metadata": {
        "id": "Jz8cew9nOqPt"
      },
      "execution_count": null,
      "outputs": []
    },
    {
      "cell_type": "code",
      "source": [
        "# absolutna chyba\n",
        "chyba1 = abs(y_data-y)\n",
        "chyba1"
      ],
      "metadata": {
        "id": "guDFexPVP_JQ"
      },
      "execution_count": null,
      "outputs": []
    },
    {
      "cell_type": "code",
      "source": [
        "# priemerna absolutna chyba (MAE=mean absolute error)\n",
        "MAE = abs(y_data-y).mean()\n",
        "MAE"
      ],
      "metadata": {
        "id": "pjeud9WjQDIp"
      },
      "execution_count": null,
      "outputs": []
    },
    {
      "cell_type": "code",
      "source": [
        "# stvorcova chyba\n",
        "chyba2 = (y_data-y)**2\n",
        "chyba2"
      ],
      "metadata": {
        "id": "lnUpnvn9QIik"
      },
      "execution_count": null,
      "outputs": []
    },
    {
      "cell_type": "code",
      "source": [
        "# priemerna stvorcova chyba (MSE=mean squarred error)\n",
        "MSE = ((y_data-y)**2).mean()\n",
        "MSE"
      ],
      "metadata": {
        "id": "wnlcpNSnQPa-"
      },
      "execution_count": null,
      "outputs": []
    }
  ]
}