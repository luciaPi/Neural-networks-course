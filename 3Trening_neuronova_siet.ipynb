{
  "nbformat": 4,
  "nbformat_minor": 0,
  "metadata": {
    "colab": {
      "provenance": [],
      "toc_visible": true,
      "authorship_tag": "ABX9TyPQ0d3drFoq37g6/j/fhuIj",
      "include_colab_link": true
    },
    "kernelspec": {
      "name": "python3",
      "display_name": "Python 3"
    },
    "language_info": {
      "name": "python"
    }
  },
  "cells": [
    {
      "cell_type": "markdown",
      "metadata": {
        "id": "view-in-github",
        "colab_type": "text"
      },
      "source": [
        "<a href=\"https://colab.research.google.com/github/luciaPi/Neural-networks-course/blob/main/3Trening_neuronova_siet.ipynb\" target=\"_parent\"><img src=\"https://colab.research.google.com/assets/colab-badge.svg\" alt=\"Open In Colab\"/></a>"
      ]
    },
    {
      "cell_type": "markdown",
      "source": [
        "# **Tréning neurónovej siete**"
      ],
      "metadata": {
        "id": "gp5NUsXAthrj"
      }
    },
    {
      "cell_type": "code",
      "execution_count": null,
      "metadata": {
        "id": "qqpta3wzsUrm"
      },
      "outputs": [],
      "source": [
        "import torch\n",
        "from torch import nn\n",
        "import pandas as pd\n",
        "import torch.utils.data as data_utils\n",
        "import torch.optim as optim"
      ]
    },
    {
      "cell_type": "markdown",
      "source": [
        "### **Dataset Študenti**\n",
        "\n",
        "https://www.kaggle.com/datasets/rkiattisak/student-performance-in-mathematics"
      ],
      "metadata": {
        "id": "SJ-twUUh3HbH"
      }
    },
    {
      "cell_type": "markdown",
      "source": [
        "#### **1. Príprava dát**"
      ],
      "metadata": {
        "id": "L_faWUigCDi3"
      }
    },
    {
      "cell_type": "code",
      "source": [
        "#!ls /root/.cache/kagglehub/datasets/rkiattisak/student-performance-in-mathematics/versions/3\n",
        "\n",
        "import kagglehub\n",
        "\n",
        "# Download latest version\n",
        "path = kagglehub.dataset_download(\"rkiattisak/student-performance-in-mathematics\")\n",
        "\n",
        "print(\"Path to dataset files:\", path)\n",
        "data = pd.read_csv(path+\"/exams.csv\")\n",
        "\n",
        "# zmenime \"lunch\" na 0-1 hodnoty\n",
        "data['lunch'] = data['lunch'].replace({'free/reduced': 1, 'standard': 0})\n",
        "# upravime aj \"gender\" a \"parental level of education\"\n",
        "data['gender'] = data['gender'].replace({'female': 1, 'male': 0})\n",
        "data['parental level of education'] = data['parental level of education'].replace({'some high school': 0,'high school':0,'some college':1,\"associate's degree\":2,\"bachelor's degree\":3,\"master's degree\":4})\n",
        "# zmenime na 0-1 hodnoty stlpec \"test preparation course\"\n",
        "data['test preparation course'] = data['test preparation course'].replace({'completed': 1, 'none': 0})\n",
        "# vymazeme stlpec \"race/ethnicity\"\n",
        "data =data.drop(columns=['race/ethnicity'])\n",
        "\n",
        "data"
      ],
      "metadata": {
        "id": "1WiMU1Wlyd5_"
      },
      "execution_count": null,
      "outputs": []
    },
    {
      "cell_type": "code",
      "source": [
        "# vizualizujeme data\n",
        "from matplotlib import pyplot as plt\n",
        "import seaborn as sns\n",
        "\n",
        "# Set up a 2x4 grid of subplots\n",
        "fig, axes = plt.subplots(2, 3, figsize=(20, 10), constrained_layout=True)\n",
        "\n",
        "# Plot 1: Grouped by 'parental_level_of_education'\n",
        "data.groupby('parental level of education').size().plot(kind='barh', ax=axes[0, 0], color=sns.palettes.mpl_palette('Dark2'), title='parental level of education')\n",
        "axes[0, 0].spines[['top', 'right']].set_visible(False)\n",
        "\n",
        "# Plot 2: 'lunch'\n",
        "data['lunch'].plot(kind='hist', bins=20, ax=axes[0, 1], title='lunch')\n",
        "axes[0, 1].spines[['top', 'right']].set_visible(False)\n",
        "\n",
        "# Plot 3: 'gender'\n",
        "data['gender'].plot(kind='hist', bins=20, ax=axes[0, 2], title='gender')\n",
        "axes[0, 2].spines[['top', 'right']].set_visible(False)\n",
        "\n",
        "# Plot 4: 'test_preparation_course'\n",
        "data['test preparation course'].plot(kind='hist', bins=20, ax=axes[1, 0], title='test preparation course')\n",
        "axes[1, 0].spines[['top', 'right']].set_visible(False)\n",
        "\n",
        "# Plot 5: 'math_score'\n",
        "data['math score'].plot(kind='hist', bins=20, ax=axes[1, 1], title='math score')\n",
        "axes[1, 1].spines[['top', 'right']].set_visible(False)\n",
        "\n",
        "# Plot 6: Scatter plot of 'math_score' vs 'reading_score'\n",
        "data.plot(kind='scatter', x='math score', y='reading score', s=32, alpha=0.8, ax=axes[1, 2], title='math score vs reading score')\n",
        "axes[1, 2].spines[['top', 'right']].set_visible(False)"
      ],
      "metadata": {
        "id": "2C2do3804aIB"
      },
      "execution_count": null,
      "outputs": []
    },
    {
      "cell_type": "code",
      "source": [
        "# zobrazime data\n",
        "data"
      ],
      "metadata": {
        "id": "oEBjCZQTG6y1"
      },
      "execution_count": null,
      "outputs": []
    },
    {
      "cell_type": "code",
      "source": [
        "# vstupy\n",
        "input_name1 = 'test preparation course'\n",
        "input_name2 = 'reading score'\n",
        "input_name3 = 'writing score'\n",
        "inputs = data[[input_name1,input_name2,input_name3]].copy()\n",
        "inputs"
      ],
      "metadata": {
        "id": "7EhLjyP57RPd"
      },
      "execution_count": null,
      "outputs": []
    },
    {
      "cell_type": "code",
      "source": [
        "# vystup\n",
        "output_name = 'math score'\n",
        "labels = data[output_name].copy()\n",
        "labels"
      ],
      "metadata": {
        "id": "MMS0xOtv5eqS"
      },
      "execution_count": null,
      "outputs": []
    },
    {
      "cell_type": "code",
      "source": [
        "# upravime data na tenzory\n",
        "x_data = torch.tensor(inputs.values, dtype=torch.float32)\n",
        "y_data = torch.tensor(labels.values, dtype=torch.float32)\n",
        "\n",
        "print(x_data.shape, y_data.shape)\n",
        "x_data[:5], y_data[:5]"
      ],
      "metadata": {
        "id": "8DP78nD68Yui"
      },
      "execution_count": null,
      "outputs": []
    },
    {
      "cell_type": "markdown",
      "source": [
        "**DataLoader** - načítava dáta z datasetu pre neurónovú sieť\n",
        "\n",
        "**Batch** je dávka dát. Dáta modelu ukazujeme v **batchoch** (dávkach).\n",
        "\n",
        "**batch size** = počet dát v batchi"
      ],
      "metadata": {
        "id": "4iZzNNxgN0bp"
      }
    },
    {
      "cell_type": "code",
      "source": [
        "batch_size = 8\n",
        "train_tensor = data_utils.TensorDataset(x_data, y_data)\n",
        "train_dataloader = data_utils.DataLoader(dataset = train_tensor, batch_size = batch_size, shuffle = True)"
      ],
      "metadata": {
        "id": "l5kxNdSPNvDO"
      },
      "execution_count": null,
      "outputs": []
    },
    {
      "cell_type": "code",
      "source": [
        "# prvy batch dat\n",
        "next(iter(train_dataloader))"
      ],
      "metadata": {
        "id": "ZJqCVK2QOhoN"
      },
      "execution_count": null,
      "outputs": []
    },
    {
      "cell_type": "markdown",
      "source": [
        "#### **2. Príprava neurónovej siete**"
      ],
      "metadata": {
        "id": "RKanUXTZCQg0"
      }
    },
    {
      "cell_type": "code",
      "source": [
        "# prioritne budeme trenovat na GPU karte\n",
        "device = 'cuda' if torch.cuda.is_available() else 'cpu'\n",
        "device"
      ],
      "metadata": {
        "id": "bBkAEzT6DP3H"
      },
      "execution_count": null,
      "outputs": []
    },
    {
      "cell_type": "code",
      "source": [
        "# postavime neuronovu siet\n",
        "\n",
        "class StudentiModel(nn.Module):\n",
        "    def __init__(self):\n",
        "        super().__init__()\n",
        "        self.linear1 = nn.Linear(3, 3)  # torch.nn.Linear(in_features, out_features)\n",
        "        self.linear2 = nn.Linear(3, 2)\n",
        "        self.linear3 = nn.Linear(2, 1)\n",
        "\n",
        "    def forward(self, x):  # x = vstup\n",
        "        y123 = self.linear1(x)\n",
        "        y45 = self.linear2(y123)\n",
        "        y6 = self.linear3(y45)\n",
        "        return y6\n",
        "\n",
        "# vyrvorime neuronovu siet\n",
        "model = StudentiModel().to(device).eval()\n",
        "model"
      ],
      "metadata": {
        "id": "jMimOz4F9TD1"
      },
      "execution_count": null,
      "outputs": []
    },
    {
      "cell_type": "markdown",
      "source": [
        "**Úlohy**\n",
        "1. Koľko vrstiev má neurónová sieť?\n",
        "2. Koľko neurónov je v jednotlivých vrstvách?\n",
        "3. Nakreslite obrázok siete."
      ],
      "metadata": {
        "id": "bLiKj79e9yV_"
      }
    },
    {
      "cell_type": "markdown",
      "source": [
        "**Váhy siete**"
      ],
      "metadata": {
        "id": "XuwOxEeoMQPw"
      }
    },
    {
      "cell_type": "code",
      "source": [
        "# vahy su inicializovane nahodne\n",
        "for name, param in model.named_parameters():\n",
        "  print(name, \"-\", param.detach().numpy())"
      ],
      "metadata": {
        "id": "ZyjH-XCSIEzz"
      },
      "execution_count": null,
      "outputs": []
    },
    {
      "cell_type": "markdown",
      "source": [
        "#### **3. Ohodnotenie siete pred tréningom**"
      ],
      "metadata": {
        "id": "H24OEfJFMWZ3"
      }
    },
    {
      "cell_type": "code",
      "source": [
        "# vyberte studenta\n",
        "index_vstupu = ???\n",
        "print(\"Vstup =\",x_data[index_vstupu])\n",
        "y = model(x_data[index_vstupu]).item()\n",
        "print(\"Vystup =\",y)\n",
        "print(\"Pozadovany vystup =\",labels[index_vstupu])"
      ],
      "metadata": {
        "id": "LJBFzmdXD4UL"
      },
      "execution_count": null,
      "outputs": []
    },
    {
      "cell_type": "markdown",
      "source": [
        "**Úloha**\n",
        "\n",
        " Vypočítajte chybu siete: \\\\\n",
        "a) absolútnu chybu \\\\\n",
        "b) štvorcovú chybu"
      ],
      "metadata": {
        "id": "YfuNN6zmMvRT"
      }
    },
    {
      "cell_type": "code",
      "source": [
        "chyba1 = ???\n",
        "print(\"Absolutna chyba =\", chyba1)"
      ],
      "metadata": {
        "id": "bxUNvqQ2Ia3D"
      },
      "execution_count": null,
      "outputs": []
    },
    {
      "cell_type": "code",
      "source": [
        "chyba2 = ???\n",
        "print(\"Stvorcova chyba =\", chyba2)"
      ],
      "metadata": {
        "id": "f9H7CI61IliT"
      },
      "execution_count": null,
      "outputs": []
    },
    {
      "cell_type": "markdown",
      "source": [
        "**Chyba celého datasetu**"
      ],
      "metadata": {
        "id": "e-XalIz_Oq4j"
      }
    },
    {
      "cell_type": "code",
      "source": [
        "# vystup celeho datasetu\n",
        "y = model(x_data).detach().numpy()[:,0]\n",
        "\n",
        "# priemerna absolutna chyba (MAE=mean absolute error)\n",
        "MAE = abs(y_data-y).mean().item()\n",
        "\n",
        "# priemerna stvorcova chyba (MSE=mean squarred error)\n",
        "MSE = ((y_data-y)**2).mean().item()\n",
        "\n",
        "print(\"MAE:\",MAE)\n",
        "print(\"MSE:\",MSE)"
      ],
      "metadata": {
        "id": "Jz8cew9nOqPt"
      },
      "execution_count": null,
      "outputs": []
    },
    {
      "cell_type": "markdown",
      "source": [
        "#### **4. Tréning neurónovej siete**"
      ],
      "metadata": {
        "id": "UsiQF_OsK4Mp"
      }
    },
    {
      "cell_type": "code",
      "source": [
        "model.train() # train() - nastavime model do treningoveho modu (opakom je eval() - evaluacny/netreningovy mod)"
      ],
      "metadata": {
        "id": "vVVTw0XvQL3m"
      },
      "execution_count": null,
      "outputs": []
    },
    {
      "cell_type": "code",
      "source": [
        "# ukazkove vstupy a vystupy\n",
        "inputs, labels = next(iter(train_dataloader))\n",
        "inputs, labels"
      ],
      "metadata": {
        "id": "ptKsQrfJRICj"
      },
      "execution_count": null,
      "outputs": []
    },
    {
      "cell_type": "code",
      "source": [
        "# optimizer - optimalizuje parametre (vahy, bias) siete\n",
        "optimizer = optim.SGD(model.parameters(), lr=0.00001, momentum=0.9)"
      ],
      "metadata": {
        "id": "WIqSG1YPR6RS"
      },
      "execution_count": null,
      "outputs": []
    },
    {
      "cell_type": "code",
      "source": [
        "# Loss funkcia = chyba siete - trening sa ju snazi zlepsit\n",
        "criterion = nn.MSELoss() # MSE=mean squarred error (priemerna stvorcova chyba)"
      ],
      "metadata": {
        "id": "-Hss20nGVAd2"
      },
      "execution_count": null,
      "outputs": []
    },
    {
      "cell_type": "markdown",
      "source": [
        "**Epocha** – modelu ukážeme jedenkrát všetky trénovacie dáta.\n",
        "\n",
        "**Loss funkcia** hodnotí kvalitu aktuálneho modelu (s aktuálnymi váhami). **Minimalizujeme** ju = chceme, aby mala čo najmenšiu hodnotu (aby bola **chyba** modelu čo najmenšia).\n",
        "\n",
        "<u>**Tréning modelu (učenie)**</u>\n",
        "\n",
        "1. Tréning prebieha v niekoľkých **epochách**.\n",
        "2. Dáta modelu ukazujeme v **batchoch** (dávkach).\n",
        "3. Po každom **batchi** sa upravia **váhy** modelu tak, aby bola jeho **chyba** čo najmenšia (= minimalizujeme loss funkciu).\n",
        "\n",
        "<u>**Jeden krok tréningu (pre 1 batch)**</u>\n",
        "1. Reštartujeme optimizer\n",
        "*optimizer.zero_grad()*\n",
        "2. Vypočítame výstup siete pre aktuálny batch dát\n",
        "*y = model(inputs)*\n",
        "3. Vypočítame chybu siete pre aktuálny batch dát\n",
        "*loss = criterion(y, labels)*\n",
        "4. Vypočítame, ako by sa mali upraviť váhy, aby sa chyba zmenšila\n",
        "*loss.backward()*\n",
        "5. Úprava váh siete\n",
        "*optimizer.step()*"
      ],
      "metadata": {
        "id": "rbLOx6RMNvUk"
      }
    },
    {
      "cell_type": "markdown",
      "source": [
        "Hľadanie najlepšieho modelu (váh) s čo najmenšou chybou (hodnotou Loss funkcie).\n",
        "\n",
        "<img src=\"https://media.licdn.com/dms/image/v2/D4D12AQEwBsLCCT39Ug/article-cover_image-shrink_600_2000/article-cover_image-shrink_600_2000/0/1673634305799?e=2147483647&v=beta&t=3ikrAgs8p0EGgX0Motjp9rJr9CSBZjXLCi6WoBwqKoI\" width=45% align=\"left\">\n",
        "<img src=\"https://cs.hse.ru/data/2016/08/26/1121363361/moml.jpg\" width=45% align=\"right\">"
      ],
      "metadata": {
        "id": "wffFxAg5RSEA"
      }
    },
    {
      "cell_type": "code",
      "source": [
        "# pocet epoch\n",
        "epochs = ???"
      ],
      "metadata": {
        "id": "Z1HAtxzOPqs-"
      },
      "execution_count": null,
      "outputs": []
    },
    {
      "cell_type": "code",
      "source": [
        "print(\"Start training\")\n",
        "\n",
        "absolute_errors = []\n",
        "losses_squarred_errors = []\n",
        "\n",
        "for epoch in range(epochs): # pocas jednej epochy prejdeme cely dataset\n",
        "\n",
        "    # inicializujeme pre treningove statistiky\n",
        "    running_loss_mse = 0.0\n",
        "    running_mae = 0.0\n",
        "    batches = 0\n",
        "\n",
        "    # v cykle prejdeme vsetky data\n",
        "    for i, data in enumerate(train_dataloader):\n",
        "        inputs, labels = data\n",
        "        batches+=1\n",
        "\n",
        "        # reshape data\n",
        "        inputs = inputs.view(-1,3)\n",
        "        labels = labels.view(-1,1)\n",
        "\n",
        "        # restartujeme optimizer\n",
        "        optimizer.zero_grad()\n",
        "\n",
        "        # vypocitame vystup siete pre aktualny batch dat\n",
        "        y = model(inputs)\n",
        "\n",
        "        # priemerna absolutna chyba (MAE=mean absolute error)\n",
        "        MAE = abs(labels-y).mean()\n",
        "        running_mae += MAE.item()\n",
        "        # chyba siete - trening sa ju snazi zlepsit (MSE=mean squarred error)\n",
        "        loss = criterion(y, labels)\n",
        "\n",
        "        # uprava parametrov siete podla aktualnej chyby (loss)\n",
        "        loss.backward()\n",
        "        optimizer.step()\n",
        "\n",
        "        running_loss_mse += loss.item()\n",
        "\n",
        "    # priemerna chyba za celu epochu\n",
        "    MSE = running_loss_mse/batches\n",
        "    losses_squarred_errors.append(MSE)\n",
        "    MAE = running_mae/batches\n",
        "    absolute_errors.append(MAE)\n",
        "\n",
        "    print('epoch {0}: MSE={1} MAE={2}'.format(epoch+1,MSE,MAE))\n",
        "\n",
        "print(\"Finished training\")"
      ],
      "metadata": {
        "id": "ieujJyAcK9zw",
        "collapsed": true
      },
      "execution_count": null,
      "outputs": []
    },
    {
      "cell_type": "code",
      "source": [
        "fig, axes = plt.subplots(1,2,figsize=(10,4),constrained_layout=True)\n",
        "axes[0].plot(losses_squarred_errors, label='Training Loss MSE')\n",
        "axes[1].plot(absolute_errors, label='MAE')\n",
        "axes[0].set_xlabel('Epochs')\n",
        "axes[1].set_xlabel('Epochs')\n",
        "axes[0].set_title('Training Loss MSE')\n",
        "axes[1].set_title('MAE')\n",
        "plt.show()"
      ],
      "metadata": {
        "id": "2VbAhKHqK1Gv"
      },
      "execution_count": null,
      "outputs": []
    },
    {
      "cell_type": "markdown",
      "source": [
        "#### **5. Ohodnotenie siete po tréningu**"
      ],
      "metadata": {
        "id": "7bHGJatA8z48"
      }
    },
    {
      "cell_type": "code",
      "source": [
        "# nastavime model do evaluacneho (netreningoveho modu)\n",
        "model.eval()"
      ],
      "metadata": {
        "id": "qZUBpQHMdYhz"
      },
      "execution_count": null,
      "outputs": []
    },
    {
      "cell_type": "code",
      "source": [
        "# vyberte studenta\n",
        "index_vstupu = ???\n",
        "print(\"Vstup =\",x_data[index_vstupu])\n",
        "y = model(x_data[index_vstupu]).item()\n",
        "print(\"Vystup =\",y)\n",
        "print(\"Pozadovany vystup =\",labels[index_vstupu])\n",
        "chyba1 = abs(y-labels[index_vstupu])\n",
        "print(\"Absolutna chyba =\", chyba1)\n",
        "chyba2 = (y-labels[index_vstupu])**2\n",
        "print(\"Stvorcova chyba =\", chyba2)"
      ],
      "metadata": {
        "id": "UOQz6Lpd8z49"
      },
      "execution_count": null,
      "outputs": []
    },
    {
      "cell_type": "markdown",
      "source": [
        "**Chyba celého datasetu**"
      ],
      "metadata": {
        "id": "_R2wzhGl8z4-"
      }
    },
    {
      "cell_type": "code",
      "source": [
        "# vystup celeho datasetu\n",
        "y = model(x_data).detach().numpy()[:,0]\n",
        "\n",
        "# priemerna absolutna chyba (MAE=mean absolute error)\n",
        "MAE = abs(y_data-y).mean().item()\n",
        "\n",
        "# priemerna stvorcova chyba (MSE=mean squarred error)\n",
        "MSE = ((y_data-y)**2).mean().item()\n",
        "\n",
        "print(\"MAE:\",MAE)\n",
        "print(\"MSE:\",MSE)"
      ],
      "metadata": {
        "id": "qyAZo1_S8z4-"
      },
      "execution_count": null,
      "outputs": []
    },
    {
      "cell_type": "markdown",
      "source": [
        "Neural Network Playground\n",
        "\n",
        "https://playground.tensorflow.org/#activation=linear&batchSize=10&dataset=circle&regDataset=reg-plane&learningRate=0.03&regularizationRate=0&noise=10&networkShape=4,2&seed=0.92143&showTestData=false&discretize=false&percTrainData=70&x=true&y=true&xTimesY=false&xSquared=false&ySquared=false&cosX=false&sinX=false&cosY=false&sinY=false&collectStats=false&problem=regression&initZero=false&hideText=false"
      ],
      "metadata": {
        "id": "2sSBFaYEfqTv"
      }
    }
  ]
}